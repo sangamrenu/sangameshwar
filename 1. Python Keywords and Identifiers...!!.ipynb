{
 "cells": [
  {
   "cell_type": "markdown",
   "id": "07e3c715",
   "metadata": {},
   "source": [
    "In this segment, we will learn about keywords (reserved words in Python) and \n",
    "identifiers (names given to variables, functions, etc.).\n",
    "\n",
    "# Python Keywords\n",
    "\n",
    "Keywords are predefined, reserved words used in Python programming that have special meanings to the compiler.\n",
    "\n",
    "We cannot use a keyword as a variable name, function name, or any other identifier. \n",
    "They are used to define the syntax and structure of the Python language.\n",
    "\n",
    "All the keywords except True, False and None are in lowercase and they must be written as they are. \n",
    "\n",
    "The list of all the keywords is given below."
   ]
  },
  {
   "cell_type": "raw",
   "id": "337dc992",
   "metadata": {},
   "source": [
    "Python Keywords List:\n",
    "\n",
    "False\tawait\telse\timport\tpass\n",
    "\n",
    "None\tbreak\texcept\tin\traise\n",
    "\n",
    "True\tclass\tfinally\tis\treturn\n",
    "\n",
    "and\t continue\tfor\t lambda\t try\n",
    "\n",
    "as\tdef\tfrom\tnonlocal\twhile\n",
    "\n",
    "assert\tdel\t global\t   not\t with\n",
    "\n",
    "async\telif   if\tor\tyield"
   ]
  },
  {
   "cell_type": "markdown",
   "id": "eb659b55",
   "metadata": {},
   "source": [
    "Looking at all the keywords at once and trying to figure out what they mean might be overwhelming."
   ]
  },
  {
   "cell_type": "markdown",
   "id": "eced1f38",
   "metadata": {},
   "source": [
    "# Python Identifiers"
   ]
  },
  {
   "cell_type": "markdown",
   "id": "2d8d2b2e",
   "metadata": {},
   "source": [
    "Identifiers are the name given to variables, classes, methods, etc. For example,\n",
    "\n",
    "language = 'Python'\n",
    "\n",
    "Here, language is a variable (an identifier) which holds the value 'Python'.\n",
    "\n",
    "We cannot use keywords as variable names as they are reserved names that are built-in to Python. For example,\n",
    "\n",
    "continue = 'Python'\n",
    "\n",
    "The above code is wrong because we have used continue as a variable name."
   ]
  },
  {
   "cell_type": "code",
   "execution_count": 2,
   "id": "007df3bd",
   "metadata": {},
   "outputs": [],
   "source": [
    "language = 'Python'"
   ]
  },
  {
   "cell_type": "code",
   "execution_count": 3,
   "id": "b9cbfeb7",
   "metadata": {},
   "outputs": [
    {
     "data": {
      "text/plain": [
       "'Python'"
      ]
     },
     "execution_count": 3,
     "metadata": {},
     "output_type": "execute_result"
    }
   ],
   "source": [
    "language"
   ]
  },
  {
   "cell_type": "code",
   "execution_count": 4,
   "id": "75020f55",
   "metadata": {},
   "outputs": [
    {
     "ename": "SyntaxError",
     "evalue": "invalid syntax (Temp/ipykernel_26512/790002692.py, line 1)",
     "output_type": "error",
     "traceback": [
      "\u001b[1;36m  File \u001b[1;32m\"C:\\Users\\Pranav\\AppData\\Local\\Temp/ipykernel_26512/790002692.py\"\u001b[1;36m, line \u001b[1;32m1\u001b[0m\n\u001b[1;33m    continue = 'Python'\u001b[0m\n\u001b[1;37m             ^\u001b[0m\n\u001b[1;31mSyntaxError\u001b[0m\u001b[1;31m:\u001b[0m invalid syntax\n"
     ]
    }
   ],
   "source": [
    "continue = 'Python'"
   ]
  },
  {
   "cell_type": "markdown",
   "id": "cd38aaa0",
   "metadata": {},
   "source": [
    "# Rules for Naming an Identifier\n",
    "\n",
    "1. Identifiers cannot be a keyword.\n",
    "\n",
    "2. Identifiers are case-sensitive.\n",
    "\n",
    "3. It can have a sequence of letters and digits. However, it must begin with a letter or _. \n",
    "The first letter of an identifier cannot be a digit.\n",
    "\n",
    "4. It's a convention to start an identifier with a letter rather _.\n",
    "\n",
    "5. Whitespaces are not allowed.\n",
    "\n",
    "6. We cannot use special symbols like !, @, #, $, and so on."
   ]
  },
  {
   "cell_type": "raw",
   "id": "873ac250",
   "metadata": {},
   "source": [
    "Some Valid and Invalid Identifiers in Python\n",
    "\n",
    "Valid Identifiers\tInvalid Identifiers\n",
    "\n",
    "score               @core\n",
    "\n",
    "return_value\t    return\n",
    "\n",
    "highest_score\t    highest score\n",
    "\n",
    "name1\t            1name\n",
    "\n",
    "convert_to_string\tconvert to_string"
   ]
  },
  {
   "cell_type": "markdown",
   "id": "5c65cf0c",
   "metadata": {},
   "source": [
    "# Things to Remember\n",
    "\n",
    "Python is a case-sensitive language. This means, Variable and variable are not the same.\n",
    "\n",
    "Always give the identifiers a name that makes sense. While c = 10 is a valid name, \n",
    "writing count = 10 would make more sense, and it would be easier to figure out what it represents \n",
    "when you look at your code after a long gap.\n",
    "\n",
    "Multiple words can be separated using an underscore, like this_is_a_long_variable."
   ]
  },
  {
   "cell_type": "code",
   "execution_count": null,
   "id": "8dd79a04",
   "metadata": {},
   "outputs": [],
   "source": []
  }
 ],
 "metadata": {
  "kernelspec": {
   "display_name": "Python 3 (ipykernel)",
   "language": "python",
   "name": "python3"
  },
  "language_info": {
   "codemirror_mode": {
    "name": "ipython",
    "version": 3
   },
   "file_extension": ".py",
   "mimetype": "text/x-python",
   "name": "python",
   "nbconvert_exporter": "python",
   "pygments_lexer": "ipython3",
   "version": "3.9.7"
  }
 },
 "nbformat": 4,
 "nbformat_minor": 5
}
